{
 "cells": [
  {
   "cell_type": "code",
   "execution_count": 22,
   "metadata": {
    "collapsed": true
   },
   "outputs": [],
   "source": [
    "import numpy\n",
    "import pandas"
   ]
  },
  {
   "cell_type": "code",
   "execution_count": 23,
   "metadata": {
    "collapsed": true
   },
   "outputs": [],
   "source": [
    "data = pandas.read_csv('nesarc_pds.csv', low_memory=False)"
   ]
  },
  {
   "cell_type": "code",
   "execution_count": 24,
   "metadata": {
    "collapsed": false
   },
   "outputs": [
    {
     "name": "stdout",
     "output_type": "stream",
     "text": [
      "43093\n",
      "3008\n"
     ]
    }
   ],
   "source": [
    "#check dimensions of csv\n",
    "print len(data)\n",
    "print len(data.columns)"
   ]
  },
  {
   "cell_type": "code",
   "execution_count": 25,
   "metadata": {
    "collapsed": true
   },
   "outputs": [],
   "source": [
    "#ensure values are numeric\n",
    "data['S2AQ1'] = data['S2AQ1'].convert_objects(convert_numeric=True)\n",
    "data['S7Q1'] = data['S7Q1'].convert_objects(convert_numeric=True)\n",
    "data['S7Q4A2'] = data['S7Q4A2'].convert_objects(convert_numeric=True)\n",
    "data['S7Q31A'] = data['S7Q31A'].convert_objects(convert_numeric=True)"
   ]
  },
  {
   "cell_type": "code",
   "execution_count": 26,
   "metadata": {
    "collapsed": false
   },
   "outputs": [
    {
     "name": "stdout",
     "output_type": "stream",
     "text": [
      "1     3854\n",
      "2    37784\n",
      "9     1455\n",
      "dtype: int64\n"
     ]
    }
   ],
   "source": [
    "#identify number within sample with social phobia\n",
    "soc_phob = data['S7Q1'].value_counts(sort=False)\n",
    "print soc_phob"
   ]
  },
  {
   "cell_type": "code",
   "execution_count": 27,
   "metadata": {
    "collapsed": false
   },
   "outputs": [
    {
     "name": "stdout",
     "output_type": "stream",
     "text": [
      "drinking status whole sample\n",
      "1    26946\n",
      "2     7881\n",
      "3     8266\n",
      "dtype: int64\n"
     ]
    }
   ],
   "source": [
    "#identify number who currently consume alcohol within whole sample\n",
    "print 'drinking status whole sample'\n",
    "alc = data['CONSUMER'].value_counts(sort=False)\n",
    "print alc"
   ]
  },
  {
   "cell_type": "code",
   "execution_count": 28,
   "metadata": {
    "collapsed": false
   },
   "outputs": [
    {
     "name": "stdout",
     "output_type": "stream",
     "text": [
      "drinking status whole sample percentage\n",
      "1    0.625299\n",
      "2    0.182884\n",
      "3    0.191818\n",
      "dtype: float64\n"
     ]
    }
   ],
   "source": [
    "print 'drinking status whole sample percentage'\n",
    "alc2 = data['CONSUMER'].value_counts(sort=False, normalize=True)\n",
    "print alc2"
   ]
  },
  {
   "cell_type": "code",
   "execution_count": 29,
   "metadata": {
    "collapsed": true
   },
   "outputs": [],
   "source": [
    "#subset to those who have reported social phobia\n",
    "sub1 = data[(data['S7Q1']==1)]"
   ]
  },
  {
   "cell_type": "code",
   "execution_count": 30,
   "metadata": {
    "collapsed": false
   },
   "outputs": [
    {
     "name": "stdout",
     "output_type": "stream",
     "text": [
      "drinking status social phobics\n",
      "2     781\n",
      "1    2575\n",
      "3     498\n",
      "dtype: int64\n"
     ]
    }
   ],
   "source": [
    "#identify alcohol consumption status within the subeset of those with social phobia\n",
    "print 'drinking status social phobics'\n",
    "c1 = sub1['CONSUMER'].value_counts(sort=False)\n",
    "print c1"
   ]
  },
  {
   "cell_type": "code",
   "execution_count": 31,
   "metadata": {
    "collapsed": false
   },
   "outputs": [
    {
     "name": "stdout",
     "output_type": "stream",
     "text": [
      "drinking status social phobics percentage\n",
      "2    0.202647\n",
      "1    0.668137\n",
      "3    0.129216\n",
      "dtype: float64\n"
     ]
    }
   ],
   "source": [
    "print 'drinking status social phobics percentage'\n",
    "c1p = sub1['CONSUMER'].value_counts(sort = False, normalize = True)\n",
    "print c1p"
   ]
  },
  {
   "cell_type": "code",
   "execution_count": 32,
   "metadata": {
    "collapsed": false
   },
   "outputs": [
    {
     "name": "stdout",
     "output_type": "stream",
     "text": [
      "anxiety at parties\n",
      "1    1752\n",
      "2    2091\n",
      "9      11\n",
      "dtype: int64\n"
     ]
    }
   ],
   "source": [
    "#Identify those with social phobia who find social gatherings triggering\n",
    "print 'anxiety at parties'\n",
    "c2 = sub1['S7Q4A2'].value_counts(sort=False)\n",
    "print c2"
   ]
  },
  {
   "cell_type": "code",
   "execution_count": 33,
   "metadata": {
    "collapsed": false
   },
   "outputs": [
    {
     "name": "stdout",
     "output_type": "stream",
     "text": [
      "anxiety at parties percentage\n",
      "1    0.454593\n",
      "2    0.542553\n",
      "9    0.002854\n",
      "dtype: float64\n"
     ]
    }
   ],
   "source": [
    "print 'anxiety at parties percentage'\n",
    "c2p = sub1['S7Q4A2'].value_counts(sort=False, normalize = True)\n",
    "print c2p"
   ]
  },
  {
   "cell_type": "code",
   "execution_count": 34,
   "metadata": {
    "collapsed": false
   },
   "outputs": [
    {
     "name": "stdout",
     "output_type": "stream",
     "text": [
      "alcohol as coping strategy\n",
      "1     481\n",
      "2    3341\n",
      "9      32\n",
      "dtype: int64\n"
     ]
    }
   ],
   "source": [
    "#identify those who have used alcohol to cope with social phobias\n",
    "print 'alcohol as coping strategy'\n",
    "c3 = sub1['S7Q31A'].value_counts(sort=False)\n",
    "print c3"
   ]
  },
  {
   "cell_type": "code",
   "execution_count": 35,
   "metadata": {
    "collapsed": false
   },
   "outputs": [
    {
     "name": "stdout",
     "output_type": "stream",
     "text": [
      "alcohol as coping strategy percentage\n",
      "1    0.124805\n",
      "2    0.866892\n",
      "9    0.008303\n",
      "dtype: float64\n"
     ]
    }
   ],
   "source": [
    "print 'alcohol as coping strategy percentage'\n",
    "c3p = sub1['S7Q31A'].value_counts(sort=False, normalize = True)\n",
    "print c3p"
   ]
  },
  {
   "cell_type": "code",
   "execution_count": 36,
   "metadata": {
    "collapsed": false
   },
   "outputs": [
    {
     "name": "stdout",
     "output_type": "stream",
     "text": [
      "use of alcohol to cope among those with social phobias triggered by gatherings\n",
      "301\n"
     ]
    }
   ],
   "source": [
    "#identify those who find social situations triggering and who use alcohol to cope with social phobias\n",
    "print 'use of alcohol to cope among those with social phobias triggered by gatherings'\n",
    "c4 = sub1[(sub1['S7Q4A2']==1) & (sub1['S7Q31A']==1)]\n",
    "print len(c4)"
   ]
  },
  {
   "cell_type": "code",
   "execution_count": null,
   "metadata": {
    "collapsed": true
   },
   "outputs": [],
   "source": []
  }
 ],
 "metadata": {
  "kernelspec": {
   "display_name": "Python 2",
   "language": "python",
   "name": "python2"
  },
  "language_info": {
   "codemirror_mode": {
    "name": "ipython",
    "version": 2
   },
   "file_extension": ".py",
   "mimetype": "text/x-python",
   "name": "python",
   "nbconvert_exporter": "python",
   "pygments_lexer": "ipython2",
   "version": "2.7.12"
  }
 },
 "nbformat": 4,
 "nbformat_minor": 0
}
